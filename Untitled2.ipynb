{
  "nbformat": 4,
  "nbformat_minor": 0,
  "metadata": {
    "colab": {
      "provenance": []
    },
    "kernelspec": {
      "name": "python3",
      "display_name": "Python 3"
    },
    "language_info": {
      "name": "python"
    }
  },
  "cells": [
    {
      "cell_type": "code",
      "source": [
        "def rectangle(m, n):\n",
        "    \"\"\"Prints an m x n box of asterisks.\"\"\"\n",
        "    for _ in range(m):  # Iterate m times (for rows)\n",
        "        print(\"*\" * n)  # Print n asterisks in each row\n",
        "\n",
        "# Example usage:\n",
        "rectangle(3, 5)  # Prints a 3x5 box"
      ],
      "metadata": {
        "colab": {
          "base_uri": "https://localhost:8080/"
        },
        "id": "aNPllHBu7OG1",
        "outputId": "b9b4cf15-453a-4d5d-c9c2-ad85d14a3c9a"
      },
      "execution_count": null,
      "outputs": [
        {
          "output_type": "stream",
          "name": "stdout",
          "text": [
            "*****\n",
            "*****\n",
            "*****\n"
          ]
        }
      ]
    },
    {
      "cell_type": "code",
      "source": [
        "def add_excitement_inplace(string_list):\n",
        "    \"\"\"Adds an exclamation point to the end of each string in the list.\n",
        "    Modifies the original list.\n",
        "    \"\"\"\n",
        "    for i in range(len(string_list)):\n",
        "        string_list[i] += \"!\"\n",
        "\n",
        "\n",
        "def add_excitement_new_list(string_list):\n",
        "    \"\"\"Adds an exclamation point to the end of each string in the list.\n",
        "    Returns a new list without modifying the original.\n",
        "    \"\"\"\n",
        "    new_list = []\n",
        "    for string in string_list:\n",
        "        new_list.append(string + \"!\")\n",
        "    return new_list\n",
        "\n",
        "\n",
        "# Example usage:\n",
        "my_list = [\"hello\", \"world\"]\n",
        "\n",
        "# Modifying the original list\n",
        "add_excitement_inplace(my_list)\n",
        "print(my_list)  # Output: ['hello!', 'world!']\n",
        "\n",
        "# Creating a new list\n",
        "new_list = add_excitement_new_list([\"hello\", \"world\"])\n",
        "print(new_list)  # Output: ['hello!', 'world!']"
      ],
      "metadata": {
        "colab": {
          "base_uri": "https://localhost:8080/"
        },
        "id": "DBRpPjHy9DLL",
        "outputId": "d039d9f3-f67f-4ec2-882c-83c545dd0bd6"
      },
      "execution_count": null,
      "outputs": [
        {
          "output_type": "stream",
          "name": "stdout",
          "text": [
            "['hello!', 'world!']\n",
            "['hello!', 'world!']\n"
          ]
        }
      ]
    },
    {
      "cell_type": "code",
      "source": [
        "def sum_digits(num):\n",
        "    \"\"\"Calculates the sum of the digits of a given integer.\"\"\"\n",
        "    total = 0  # Initialize the total sum to 0\n",
        "    num_str = str(num)  # Convert the number to a string to iterate over digits\n",
        "\n",
        "    for digit_char in num_str:\n",
        "        if digit_char.isdigit():  # Check if the character is a digit\n",
        "            total += int(digit_char)  # Convert the digit character to an integer and add it to the total\n",
        "\n",
        "    return total  # Return the final sum of digits\n",
        "\n",
        "# Example usage\n",
        "number = 12345\n",
        "digit_sum = sum_digits(number)\n",
        "print(f\"The sum of digits in {number} is: {digit_sum}\")"
      ],
      "metadata": {
        "colab": {
          "base_uri": "https://localhost:8080/"
        },
        "id": "XKZhX9MD9bI-",
        "outputId": "733b2e8b-2e23-4cd4-8e70-66235995e89c"
      },
      "execution_count": null,
      "outputs": [
        {
          "output_type": "stream",
          "name": "stdout",
          "text": [
            "The sum of digits in 12345 is: 15\n"
          ]
        }
      ]
    },
    {
      "cell_type": "code",
      "source": [
        "def digital_root(n):\n",
        "    \"\"\"Calculates the digital root of an integer n.\"\"\"\n",
        "    while n >= 10:  # Continue until n has only one digit\n",
        "        sum_of_digits = 0\n",
        "        while n > 0:\n",
        "            sum_of_digits += n % 10  # Add the last digit to the sum\n",
        "            n //= 10  # Remove the last digit from n\n",
        "        n = sum_of_digits  # Update n with the sum of its digits\n",
        "    return n  # Return the final single-digit number (digital root)\n",
        "\n",
        "# Example usage:\n",
        "number = 45893\n",
        "root = digital_root(number)\n",
        "print(f\"The digital root of {number} is: {root}\")"
      ],
      "metadata": {
        "colab": {
          "base_uri": "https://localhost:8080/"
        },
        "id": "vC7sumjS9-HA",
        "outputId": "a4073960-0a57-4730-9102-0f6b80c2dab4"
      },
      "execution_count": null,
      "outputs": [
        {
          "output_type": "stream",
          "name": "stdout",
          "text": [
            "The digital root of 45893 is: 2\n"
          ]
        }
      ]
    },
    {
      "cell_type": "code",
      "source": [
        "def first_diff(str1, str2):\n",
        "    \"\"\"\n",
        "    Finds the first location where two strings differ.\n",
        "\n",
        "    Args:\n",
        "        str1: The first string.\n",
        "        str2: The second string.\n",
        "\n",
        "    Returns:\n",
        "        The index of the first difference, or -1 if the strings are identical.\n",
        "    \"\"\"\n",
        "    min_len = min(len(str1), len(str2))  # Get the length of the shorter string\n",
        "\n",
        "    for i in range(min_len):\n",
        "        if str1[i] != str2[i]:  # Compare characters at index i\n",
        "            return i  # Return index if characters differ\n",
        "\n",
        "    if len(str1) != len(str2):  # If one string is longer than the other and they match up to the shorter length\n",
        "        return min_len  # Return the length of the shorter string\n",
        "\n",
        "    return -1  # If strings are identical, return -1\n",
        "\n",
        "# Example usage with output:\n",
        "string1 = \"abcdefg\"\n",
        "string2 = \"abcdeFg\"\n",
        "diff_index = first_diff(string1, string2)\n",
        "\n",
        "if diff_index == -1:\n",
        "    print(\"The strings are identical.\")\n",
        "else:\n",
        "    print(f\"The strings differ at index {diff_index}.\")\n",
        "\n",
        "# Add more test cases here if you want\n",
        "print(first_diff(\"same\", \"same\"))  # Output: -1\n",
        "print(first_diff(\"one\", \"two\"))  # Output: 0\n",
        "print(first_diff(\"apple\", \"apples\"))  # Output: 5"
      ],
      "metadata": {
        "colab": {
          "base_uri": "https://localhost:8080/"
        },
        "id": "Nzy7aq3o-nVH",
        "outputId": "9d9759ae-a828-48a1-a1fb-828377f6bf82"
      },
      "execution_count": null,
      "outputs": [
        {
          "output_type": "stream",
          "name": "stdout",
          "text": [
            "The strings differ at index 5.\n",
            "-1\n",
            "0\n",
            "5\n"
          ]
        }
      ]
    },
    {
      "cell_type": "code",
      "source": [
        "import math\n",
        "\n",
        "def binom(n, k):\n",
        "    \"\"\"\n",
        "    Calculates the binomial coefficient n C k.\n",
        "\n",
        "    Args:\n",
        "        n: The total number of items.\n",
        "        k: The number of items to choose.\n",
        "\n",
        "    Returns:\n",
        "        The binomial coefficient n C k.\n",
        "    \"\"\"\n",
        "    return math.factorial(n) // (math.factorial(k) * math.factorial(n - k))\n",
        "\n",
        "# Example usage:\n",
        "n = 5\n",
        "k = 2\n",
        "result = binom(n, k)\n",
        "print(f\"The binomial coefficient {n} C {k} is: {result}\")"
      ],
      "metadata": {
        "colab": {
          "base_uri": "https://localhost:8080/"
        },
        "id": "hMvUfI6C-242",
        "outputId": "68bdda61-435a-42cf-8e77-a962938ae8cd"
      },
      "execution_count": null,
      "outputs": [
        {
          "output_type": "stream",
          "name": "stdout",
          "text": [
            "The binomial coefficient 5 C 2 is: 10\n"
          ]
        }
      ]
    },
    {
      "cell_type": "code",
      "source": [
        "import random\n",
        "\n",
        "def random_n_digit_number(n):\n",
        "    \"\"\"Generates a random integer with exactly n digits.\"\"\"\n",
        "    if n <= 0:\n",
        "        raise ValueError(\"Number of digits must be positive.\")\n",
        "\n",
        "    lower_bound = 10**(n-1)  # Smallest n-digit number (e.g., 100 for n=3)\n",
        "    upper_bound = 10**n - 1  # Largest n-digit number (e.g., 999 for n=3)\n",
        "\n",
        "    return random.randint(lower_bound, upper_bound)\n",
        "\n",
        "# Example usage:\n",
        "num_digits = 3\n",
        "random_number = random_n_digit_number(num_digits)\n",
        "print(f\"Random {num_digits}-digit number: {random_number}\")"
      ],
      "metadata": {
        "colab": {
          "base_uri": "https://localhost:8080/"
        },
        "id": "EBrmMS81_zto",
        "outputId": "bdfc8ebd-75fa-4d0d-d828-2015e6a17a57"
      },
      "execution_count": null,
      "outputs": [
        {
          "output_type": "stream",
          "name": "stdout",
          "text": [
            "Random 3-digit number: 502\n"
          ]
        }
      ]
    },
    {
      "cell_type": "code",
      "source": [
        "def number_of_factors(num):\n",
        "    \"\"\"Calculates the number of factors of a given integer.\"\"\"\n",
        "    count = 0  # Initialize the factor count to 0\n",
        "    for i in range(1, num + 1):  # Iterate from 1 to num (inclusive)\n",
        "        if num % i == 0:  # Check if i is a factor of num\n",
        "            count += 1  # Increment the count if i is a factor\n",
        "    return count  # Return the total number of factors\n",
        "\n",
        "# Example usage\n",
        "number = 12\n",
        "factor_count = number_of_factors(number)\n",
        "print(f\"The number of factors of {number} is: {factor_count}\")"
      ],
      "metadata": {
        "colab": {
          "base_uri": "https://localhost:8080/"
        },
        "id": "kangUpkb_4kS",
        "outputId": "73e30e9f-3e11-4171-e95d-17213fa70edd"
      },
      "execution_count": null,
      "outputs": [
        {
          "output_type": "stream",
          "name": "stdout",
          "text": [
            "The number of factors of 12 is: 6\n"
          ]
        }
      ]
    },
    {
      "cell_type": "code",
      "source": [
        "def factors(num):\n",
        "    \"\"\"Returns a list of factors for a given integer.\"\"\"\n",
        "    factor_list = []  # Initialize an empty list to store factors\n",
        "    for i in range(1, num + 1):  # Iterate from 1 to num (inclusive)\n",
        "        if num % i == 0:  # Check if i is a factor of num\n",
        "            factor_list.append(i)  # Add i to the factor list if it's a factor\n",
        "    return factor_list  # Return the list of factors\n",
        "\n",
        "# Example usage:\n",
        "number = 12\n",
        "factor_list = factors(number)\n",
        "print(f\"The factors of {number} are: {factor_list}\")"
      ],
      "metadata": {
        "colab": {
          "base_uri": "https://localhost:8080/"
        },
        "id": "XS1PxFTkADV2",
        "outputId": "aa3f93bd-1967-47fc-899d-a7b0fca1b8a2"
      },
      "execution_count": null,
      "outputs": [
        {
          "output_type": "stream",
          "name": "stdout",
          "text": [
            "The factors of 12 are: [1, 2, 3, 4, 6, 12]\n"
          ]
        }
      ]
    },
    {
      "cell_type": "code",
      "source": [
        "def closest(L, n):\n",
        "    \"\"\"\n",
        "    Finds the largest element in L that is not larger than n.\n",
        "\n",
        "    Args:\n",
        "        L: A list of numbers.\n",
        "        n: The target number.\n",
        "\n",
        "    Returns:\n",
        "        The largest element in L that is not larger than n.\n",
        "    \"\"\"\n",
        "    closest_num = None  # Initialize with None to handle cases where all elements are larger than n\n",
        "\n",
        "    for num in L:\n",
        "        if num <= n:  # Check if the current number is less than or equal to n\n",
        "            if closest_num is None or num > closest_num:  # Update closest_num if it's None or the current number is larger\n",
        "                closest_num = num\n",
        "\n",
        "    return closest_num  # Return the closest number found (or None if all elements are larger than n)\n",
        "\n",
        "\n",
        "# Example usage:\n",
        "L = [1, 6, 3, 9, 11]\n",
        "n = 8\n",
        "closest_element = closest(L, n)\n",
        "\n",
        "if closest_element is not None:\n",
        "    print(f\"The closest element in {L} to {n} that is not larger than {n} is: {closest_element}\")\n",
        "else:\n",
        "    print(f\"All elements in {L} are larger than {n}.\")"
      ],
      "metadata": {
        "colab": {
          "base_uri": "https://localhost:8080/"
        },
        "id": "owgerIyeAe66",
        "outputId": "e6fa0aad-f935-4bb4-a113-647ea50252cd"
      },
      "execution_count": null,
      "outputs": [
        {
          "output_type": "stream",
          "name": "stdout",
          "text": [
            "The closest element in [1, 6, 3, 9, 11] to 8 that is not larger than 8 is: 6\n"
          ]
        }
      ]
    }
  ]
}